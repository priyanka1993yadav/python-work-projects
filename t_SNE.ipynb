{
  "nbformat": 4,
  "nbformat_minor": 0,
  "metadata": {
    "kernelspec": {
      "display_name": "Python 3",
      "language": "python",
      "name": "python3"
    },
    "language_info": {
      "codemirror_mode": {
        "name": "ipython",
        "version": 3
      },
      "file_extension": ".py",
      "mimetype": "text/x-python",
      "name": "python",
      "nbconvert_exporter": "python",
      "pygments_lexer": "ipython3",
      "version": "3.7.4"
    },
    "colab": {
      "name": "t-SNE",
      "provenance": [],
      "collapsed_sections": [],
      "include_colab_link": true
    }
  },
  "cells": [
    {
      "cell_type": "markdown",
      "metadata": {
        "id": "view-in-github",
        "colab_type": "text"
      },
      "source": [
        "<a href=\"https://colab.research.google.com/github/priyanka1993yadav/python-work-projects/blob/main/t_SNE.ipynb\" target=\"_parent\"><img src=\"https://colab.research.google.com/assets/colab-badge.svg\" alt=\"Open In Colab\"/></a>"
      ]
    },
    {
      "cell_type": "code",
      "metadata": {
        "id": "ij9Bp9Ak2Oug",
        "colab": {
          "base_uri": "https://localhost:8080/"
        },
        "outputId": "1cc1cf72-7cbc-4a68-c465-c953ca0d9451"
      },
      "source": [
        "!pip install bioinfokit"
      ],
      "execution_count": 1,
      "outputs": [
        {
          "output_type": "stream",
          "text": [
            "Collecting bioinfokit\n",
            "\u001b[?25l  Downloading https://files.pythonhosted.org/packages/98/1f/4afa3a9910f5a7dd4c20e0fdff143cc6c202f85e24f4c317957f89727847/bioinfokit-1.0.7.tar.gz (80kB)\n",
            "\r\u001b[K     |████                            | 10kB 13.1MB/s eta 0:00:01\r\u001b[K     |████████▏                       | 20kB 18.6MB/s eta 0:00:01\r\u001b[K     |████████████▏                   | 30kB 16.4MB/s eta 0:00:01\r\u001b[K     |████████████████▎               | 40kB 16.2MB/s eta 0:00:01\r\u001b[K     |████████████████████▎           | 51kB 18.1MB/s eta 0:00:01\r\u001b[K     |████████████████████████▍       | 61kB 16.8MB/s eta 0:00:01\r\u001b[K     |████████████████████████████▍   | 71kB 14.7MB/s eta 0:00:01\r\u001b[K     |████████████████████████████████| 81kB 4.9MB/s \n",
            "\u001b[?25hRequirement already satisfied: pandas in /usr/local/lib/python3.6/dist-packages (from bioinfokit) (1.1.5)\n",
            "Requirement already satisfied: numpy in /usr/local/lib/python3.6/dist-packages (from bioinfokit) (1.19.5)\n",
            "Requirement already satisfied: matplotlib in /usr/local/lib/python3.6/dist-packages (from bioinfokit) (3.2.2)\n",
            "Requirement already satisfied: scipy in /usr/local/lib/python3.6/dist-packages (from bioinfokit) (1.4.1)\n",
            "Requirement already satisfied: scikit-learn in /usr/local/lib/python3.6/dist-packages (from bioinfokit) (0.22.2.post1)\n",
            "Requirement already satisfied: seaborn in /usr/local/lib/python3.6/dist-packages (from bioinfokit) (0.11.1)\n",
            "Requirement already satisfied: matplotlib_venn in /usr/local/lib/python3.6/dist-packages (from bioinfokit) (0.11.6)\n",
            "Requirement already satisfied: tabulate in /usr/local/lib/python3.6/dist-packages (from bioinfokit) (0.8.7)\n",
            "Requirement already satisfied: statsmodels in /usr/local/lib/python3.6/dist-packages (from bioinfokit) (0.10.2)\n",
            "Collecting textwrap3\n",
            "  Downloading https://files.pythonhosted.org/packages/77/9c/a53e561d496ee5866bbeea4d3a850b3b545ed854f8a21007c1e0d872e94d/textwrap3-0.9.2-py2.py3-none-any.whl\n",
            "Collecting adjustText\n",
            "  Downloading https://files.pythonhosted.org/packages/9e/15/4157718bf323fd5f5b81c891c660d0f388e042d2689a558bf1389632dc44/adjustText-0.7.3.tar.gz\n",
            "Requirement already satisfied: python-dateutil>=2.7.3 in /usr/local/lib/python3.6/dist-packages (from pandas->bioinfokit) (2.8.1)\n",
            "Requirement already satisfied: pytz>=2017.2 in /usr/local/lib/python3.6/dist-packages (from pandas->bioinfokit) (2018.9)\n",
            "Requirement already satisfied: kiwisolver>=1.0.1 in /usr/local/lib/python3.6/dist-packages (from matplotlib->bioinfokit) (1.3.1)\n",
            "Requirement already satisfied: cycler>=0.10 in /usr/local/lib/python3.6/dist-packages (from matplotlib->bioinfokit) (0.10.0)\n",
            "Requirement already satisfied: pyparsing!=2.0.4,!=2.1.2,!=2.1.6,>=2.0.1 in /usr/local/lib/python3.6/dist-packages (from matplotlib->bioinfokit) (2.4.7)\n",
            "Requirement already satisfied: joblib>=0.11 in /usr/local/lib/python3.6/dist-packages (from scikit-learn->bioinfokit) (1.0.0)\n",
            "Requirement already satisfied: patsy>=0.4.0 in /usr/local/lib/python3.6/dist-packages (from statsmodels->bioinfokit) (0.5.1)\n",
            "Requirement already satisfied: six>=1.5 in /usr/local/lib/python3.6/dist-packages (from python-dateutil>=2.7.3->pandas->bioinfokit) (1.15.0)\n",
            "Building wheels for collected packages: bioinfokit, adjustText\n",
            "  Building wheel for bioinfokit (setup.py) ... \u001b[?25l\u001b[?25hdone\n",
            "  Created wheel for bioinfokit: filename=bioinfokit-1.0.7-cp36-none-any.whl size=55616 sha256=2b2356aa4b6441cfa5abc87c0e4efc274c92fd37dcef946a3a49ed1be2eaed9d\n",
            "  Stored in directory: /root/.cache/pip/wheels/f6/30/5d/d4b0f14ae4b00b527e9aa715c54c393fc999897cb0a5673bf3\n",
            "  Building wheel for adjustText (setup.py) ... \u001b[?25l\u001b[?25hdone\n",
            "  Created wheel for adjustText: filename=adjustText-0.7.3-cp36-none-any.whl size=7099 sha256=3f85514e4cf8c6cfbe968e0c8b6c5a3c737226af8689a7d62314a7289f9793d7\n",
            "  Stored in directory: /root/.cache/pip/wheels/41/95/74/7d347e136d672f8bc28e937032bc92baf4f80856763a7e7b72\n",
            "Successfully built bioinfokit adjustText\n",
            "Installing collected packages: textwrap3, adjustText, bioinfokit\n",
            "Successfully installed adjustText-0.7.3 bioinfokit-1.0.7 textwrap3-0.9.2\n"
          ],
          "name": "stdout"
        }
      ]
    },
    {
      "cell_type": "code",
      "metadata": {
        "id": "pzuvU2uJ1i7U"
      },
      "source": [
        "from pandas import read_csv\n",
        "import pandas as pd\n",
        "\n",
        "from sklearn.manifold import TSNE\n",
        "from bioinfokit.visuz import cluster"
      ],
      "execution_count": 2,
      "outputs": []
    },
    {
      "cell_type": "code",
      "metadata": {
        "id": "XV1fMmqK1i7a"
      },
      "source": [
        "# load data\n",
        "filename = 'TSNE_data.csv'\n",
        "dataframe = pd.read_csv(filename)"
      ],
      "execution_count": 3,
      "outputs": []
    },
    {
      "cell_type": "code",
      "metadata": {
        "id": "NBVMFwzA1i7e"
      },
      "source": [
        "# Split-out validation dataset\n",
        "array = dataframe.values\n",
        "# separate array into input and output components\n",
        "X = array[:,1:]\n",
        "Y = array[:,0]"
      ],
      "execution_count": 4,
      "outputs": []
    },
    {
      "cell_type": "code",
      "metadata": {
        "id": "6fveh_yh1i7i",
        "colab": {
          "base_uri": "https://localhost:8080/"
        },
        "outputId": "6698f742-14d4-408e-ba97-83799131d126"
      },
      "source": [
        "#TSNE visualization\n",
        "from bioinfokit.visuz import cluster\n",
        "\n",
        "data_tsne = TSNE(n_components=2).fit_transform(X)\n",
        "cluster.tsneplot(score=data_tsne)"
      ],
      "execution_count": 5,
      "outputs": [
        {
          "output_type": "stream",
          "text": [
            "findfont: Font family ['Arial'] not found. Falling back to DejaVu Sans.\n"
          ],
          "name": "stderr"
        }
      ]
    },
    {
      "cell_type": "code",
      "metadata": {
        "id": "Ulqq1yFO1i7m"
      },
      "source": [
        "# get a list of categories\n",
        "color_class = dataframe['diagnosis'].to_numpy()\n",
        "cluster.tsneplot(score=data_tsne, colorlist=color_class, legendpos='upper right',legendanchor=(1.15, 1))\n",
        "\n",
        "#Plot will be stored in the default directory"
      ],
      "execution_count": 6,
      "outputs": []
    },
    {
      "cell_type": "code",
      "metadata": {
        "id": "nT5egfAq1i7p",
        "colab": {
          "base_uri": "https://localhost:8080/"
        },
        "outputId": "fa29c9f0-6391-4d8d-a781-a9ecdeb99289"
      },
      "source": [
        "data_tsne"
      ],
      "execution_count": 7,
      "outputs": [
        {
          "output_type": "execute_result",
          "data": {
            "text/plain": [
              "array([[  8.821802 , -44.40422  ],\n",
              "       [  5.9697056, -43.89246  ],\n",
              "       [  6.526353 , -39.05682  ],\n",
              "       ...,\n",
              "       [  7.6312866, -19.62761  ],\n",
              "       [  6.3522196, -41.669235 ],\n",
              "       [-32.910923 ,   3.7511578]], dtype=float32)"
            ]
          },
          "metadata": {
            "tags": []
          },
          "execution_count": 7
        }
      ]
    },
    {
      "cell_type": "code",
      "metadata": {
        "id": "zGkiTFXN1i7w"
      },
      "source": [
        ""
      ],
      "execution_count": null,
      "outputs": []
    }
  ]
}